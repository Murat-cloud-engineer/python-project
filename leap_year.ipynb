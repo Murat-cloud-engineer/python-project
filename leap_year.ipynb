{
  "nbformat": 4,
  "nbformat_minor": 0,
  "metadata": {
    "colab": {
      "name": "leap year",
      "provenance": [],
      "authorship_tag": "ABX9TyN+tpd3AaFmDC8X7ZYYhTaB",
      "include_colab_link": true
    },
    "kernelspec": {
      "name": "python3",
      "display_name": "Python 3"
    }
  },
  "cells": [
    {
      "cell_type": "markdown",
      "metadata": {
        "id": "view-in-github",
        "colab_type": "text"
      },
      "source": [
        "<a href=\"https://colab.research.google.com/github/MuratCelenoglu/python-project/blob/main/leap_year.ipynb\" target=\"_parent\"><img src=\"https://colab.research.google.com/assets/colab-badge.svg\" alt=\"Open In Colab\"/></a>"
      ]
    },
    {
      "cell_type": "code",
      "metadata": {
        "colab": {
          "base_uri": "https://localhost:8080/"
        },
        "id": "CkY05mwCpClI",
        "outputId": "c5002dc3-3b4e-4deb-d707-7348ceda399c"
      },
      "source": [
        "year = int(input(\"Enter a year: \"))  \r\n",
        "if (year % 4) == 0:  \r\n",
        "   if (year % 100) == 0:  \r\n",
        "       if (year % 400) == 0:  \r\n",
        "           print(\"{0} is a leap year\".format(year))  \r\n",
        "       else:  \r\n",
        "           print(\"{0} is not a leap year\".format(year))  \r\n",
        "   else:  \r\n",
        "       print(\"{0} is a leap year\".format(year))  \r\n",
        "else:  \r\n",
        "   print(\"{0} is not a leap year\".format(year))  "
      ],
      "execution_count": 2,
      "outputs": [
        {
          "output_type": "stream",
          "text": [
            "Enter a year: 2001\n",
            "2001 is not a leap year\n"
          ],
          "name": "stdout"
        }
      ]
    },
    {
      "cell_type": "code",
      "metadata": {
        "id": "K2mm7IONpRw2"
      },
      "source": [
        ""
      ],
      "execution_count": null,
      "outputs": []
    }
  ]
}