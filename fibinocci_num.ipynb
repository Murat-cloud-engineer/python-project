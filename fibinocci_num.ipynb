{
  "nbformat": 4,
  "nbformat_minor": 0,
  "metadata": {
    "colab": {
      "name": "fibinocci_num.ipynb",
      "provenance": [],
      "collapsed_sections": [],
      "authorship_tag": "ABX9TyMDZ4apFDdddnOi42V0gpdy",
      "include_colab_link": true
    },
    "kernelspec": {
      "name": "python3",
      "display_name": "Python 3"
    }
  },
  "cells": [
    {
      "cell_type": "markdown",
      "metadata": {
        "id": "view-in-github",
        "colab_type": "text"
      },
      "source": [
        "<a href=\"https://colab.research.google.com/github/MuratCelenoglu/python-project/blob/main/fibinocci_num.ipynb\" target=\"_parent\"><img src=\"https://colab.research.google.com/assets/colab-badge.svg\" alt=\"Open In Colab\"/></a>"
      ]
    },
    {
      "cell_type": "code",
      "metadata": {
        "colab": {
          "base_uri": "https://localhost:8080/"
        },
        "id": "joKaN5pQQmh7",
        "outputId": "8e04ffd0-0289-453c-fd44-41a8cff857d5"
      },
      "source": [
        "a = 0\r\n",
        "b = 1\r\n",
        "fib_num = []\r\n",
        "\r\n",
        "for i in range(1, 11):\r\n",
        "  c = a\r\n",
        "  a = a + b\r\n",
        "  b = c\r\n",
        "  fib_num.append(a)\r\n",
        "  \r\n",
        "print(fib_num)\r\n"
      ],
      "execution_count": 19,
      "outputs": [
        {
          "output_type": "stream",
          "text": [
            "[1, 1, 2, 3, 5, 8, 13, 21, 34, 55]\n"
          ],
          "name": "stdout"
        }
      ]
    },
    {
      "cell_type": "code",
      "metadata": {
        "id": "InkvMA_iQ51W"
      },
      "source": [
        ""
      ],
      "execution_count": null,
      "outputs": []
    }
  ]
}