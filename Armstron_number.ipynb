{
  "nbformat": 4,
  "nbformat_minor": 0,
  "metadata": {
    "colab": {
      "name": "Armstron number.ipynb",
      "provenance": [],
      "collapsed_sections": [],
      "authorship_tag": "ABX9TyORUcdDIjA1t7MGX9cGilWy",
      "include_colab_link": true
    },
    "kernelspec": {
      "name": "python3",
      "display_name": "Python 3"
    }
  },
  "cells": [
    {
      "cell_type": "markdown",
      "metadata": {
        "id": "view-in-github",
        "colab_type": "text"
      },
      "source": [
        "<a href=\"https://colab.research.google.com/github/MuratCelenoglu/python-project/blob/main/Armstron_number.ipynb\" target=\"_parent\"><img src=\"https://colab.research.google.com/assets/colab-badge.svg\" alt=\"Open In Colab\"/></a>"
      ]
    },
    {
      "cell_type": "code",
      "metadata": {
        "colab": {
          "base_uri": "https://localhost:8080/"
        },
        "id": "1LPCBAIuAm0N",
        "outputId": "ae93cf6c-30a1-4086-e97c-20412c26fa6f"
      },
      "source": [
        "num = int(input(\"Enter a number :\"))\r\n",
        "digit = str(num)\r\n",
        "\r\n",
        "total=0\r\n",
        "\r\n",
        "for x in digit :\r\n",
        "    example= int(x)** len(digit)\r\n",
        "    total+=example\r\n",
        "\r\n",
        "if (num==total): \r\n",
        "  print(\"this is an Armstrong number\")\r\n",
        "\r\n",
        "else:\r\n",
        "  print(\"this is not an Armstrong number\")"
      ],
      "execution_count": 9,
      "outputs": [
        {
          "output_type": "stream",
          "text": [
            "Enter a number :407\n",
            "this is an Armstrong number\n"
          ],
          "name": "stdout"
        }
      ]
    }
  ]
}