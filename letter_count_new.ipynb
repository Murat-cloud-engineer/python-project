{
  "nbformat": 4,
  "nbformat_minor": 0,
  "metadata": {
    "colab": {
      "name": "letter_count_new",
      "provenance": [],
      "authorship_tag": "ABX9TyPetKLJTH+UdCTDS4oZV3cY",
      "include_colab_link": true
    },
    "kernelspec": {
      "name": "python3",
      "display_name": "Python 3"
    }
  },
  "cells": [
    {
      "cell_type": "markdown",
      "metadata": {
        "id": "view-in-github",
        "colab_type": "text"
      },
      "source": [
        "<a href=\"https://colab.research.google.com/github/MuratCelenoglu/python-project/blob/main/letter_count_new.ipynb\" target=\"_parent\"><img src=\"https://colab.research.google.com/assets/colab-badge.svg\" alt=\"Open In Colab\"/></a>"
      ]
    },
    {
      "cell_type": "code",
      "metadata": {
        "colab": {
          "base_uri": "https://localhost:8080/"
        },
        "id": "OAGloHyXshpC",
        "outputId": "c51e2b41-fbcf-4d70-878a-d81f04332062"
      },
      "source": [
        "word_dict = {}\r\n",
        "sentence = \"I will be a great AWS/DevOps engineer\"\r\n",
        "\r\n",
        "for n in sentence:\r\n",
        "    keys = word_dict.keys()\r\n",
        "    if n in keys:\r\n",
        "        word_dict[n] += 1\r\n",
        "    else:\r\n",
        "        word_dict[n] = 1\r\n",
        "print(word_dict)"
      ],
      "execution_count": 3,
      "outputs": [
        {
          "output_type": "stream",
          "text": [
            "{'I': 1, ' ': 6, 'w': 1, 'i': 2, 'l': 2, 'b': 1, 'e': 6, 'a': 2, 'g': 2, 'r': 2, 't': 1, 'A': 1, 'W': 1, 'S': 1, '/': 1, 'D': 1, 'v': 1, 'O': 1, 'p': 1, 's': 1, 'n': 2}\n"
          ],
          "name": "stdout"
        }
      ]
    },
    {
      "cell_type": "code",
      "metadata": {
        "id": "TPIqXpbzsptq"
      },
      "source": [
        ""
      ],
      "execution_count": null,
      "outputs": []
    }
  ]
}