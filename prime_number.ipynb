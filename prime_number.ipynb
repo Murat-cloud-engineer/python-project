{
  "nbformat": 4,
  "nbformat_minor": 0,
  "metadata": {
    "colab": {
      "name": "prime_number.ipynb",
      "provenance": [],
      "collapsed_sections": [],
      "authorship_tag": "ABX9TyPg45lZkPPUTLXf/WDYA0Yt",
      "include_colab_link": true
    },
    "kernelspec": {
      "name": "python3",
      "display_name": "Python 3"
    }
  },
  "cells": [
    {
      "cell_type": "markdown",
      "metadata": {
        "id": "view-in-github",
        "colab_type": "text"
      },
      "source": [
        "<a href=\"https://colab.research.google.com/github/MuratCelenoglu/python-project/blob/main/prime_number.ipynb\" target=\"_parent\"><img src=\"https://colab.research.google.com/assets/colab-badge.svg\" alt=\"Open In Colab\"/></a>"
      ]
    },
    {
      "cell_type": "code",
      "metadata": {
        "colab": {
          "base_uri": "https://localhost:8080/"
        },
        "id": "jUFqvlNIKy0w",
        "outputId": "14fd30bc-481a-488c-a68e-fcdfc11daaf2"
      },
      "source": [
        "\r\n",
        " # Prime number should be divided only 1 and itself. \r\n",
        " # lowest prime number is 2.\r\n",
        "\r\n",
        "num = int(input(\"enter any positive number :\"))\r\n",
        "prime_num = 1\r\n",
        "\r\n",
        "for x in range(2, num):\r\n",
        "  if (num%x==0) :\r\n",
        "    print(\"this is not a prime number\")\r\n",
        "    prime_num = 0\r\n",
        "    break\r\n",
        "\r\n",
        "if (prime_num==1):\r\n",
        "    print(\"this is a prime number\")\r\n",
        "    \r\n"
      ],
      "execution_count": 34,
      "outputs": [
        {
          "output_type": "stream",
          "text": [
            "enter any positive number :6\n",
            "this is not a prime number\n"
          ],
          "name": "stdout"
        }
      ]
    }
  ]
}